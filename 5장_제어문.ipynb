{
  "nbformat": 4,
  "nbformat_minor": 0,
  "metadata": {
    "kernelspec": {
      "display_name": "Python 3",
      "language": "python",
      "name": "python3"
    },
    "language_info": {
      "codemirror_mode": {
        "name": "ipython",
        "version": 3
      },
      "file_extension": ".py",
      "mimetype": "text/x-python",
      "name": "python",
      "nbconvert_exporter": "python",
      "pygments_lexer": "ipython3",
      "version": "3.7.3"
    },
    "colab": {
      "name": "5장. 제어문.ipynb",
      "provenance": [],
      "include_colab_link": true
    }
  },
  "cells": [
    {
      "cell_type": "markdown",
      "metadata": {
        "id": "view-in-github",
        "colab_type": "text"
      },
      "source": [
        "<a href=\"https://colab.research.google.com/github/Infossam/iTshirt/blob/master/5%EC%9E%A5_%EC%A0%9C%EC%96%B4%EB%AC%B8.ipynb\" target=\"_parent\"><img src=\"https://colab.research.google.com/assets/colab-badge.svg\" alt=\"Open In Colab\"/></a>"
      ]
    },
    {
      "cell_type": "markdown",
      "metadata": {
        "id": "PnRHcq2jNHgM",
        "colab_type": "text"
      },
      "source": [
        "# 5장. 제어문"
      ]
    },
    {
      "cell_type": "markdown",
      "metadata": {
        "id": "S1vdD34lNHgP",
        "colab_type": "text"
      },
      "source": [
        "- 프로그램의 수행 순서를 제어하는 문장으로, 제어문이 없으면 순차적으로 수행한다.\n",
        "- 조건문 : 조건에 따라 수행 할 문장을 선택하여 실행한다.\n",
        "- 반복문 : 조건에 따라 수행 할 문장을 반복하여 실행한다."
      ]
    },
    {
      "cell_type": "markdown",
      "metadata": {
        "id": "mhS499slNHgQ",
        "colab_type": "text"
      },
      "source": [
        "## 1. 조건식 : 참과 거짓을 판단하는 문장"
      ]
    },
    {
      "cell_type": "markdown",
      "metadata": {
        "id": "eNN-xGlsNHgR",
        "colab_type": "text"
      },
      "source": [
        "### 1) 불리언(bool) : 참 또는 거짓"
      ]
    },
    {
      "cell_type": "markdown",
      "metadata": {
        "id": "bjAe6vFqNHgT",
        "colab_type": "text"
      },
      "source": [
        "- 참 : True\n",
        "- 거짓 : False"
      ]
    },
    {
      "cell_type": "markdown",
      "metadata": {
        "id": "F_ID4QvQNHgU",
        "colab_type": "text"
      },
      "source": [
        "### 2) 비교 연산자"
      ]
    },
    {
      "cell_type": "markdown",
      "metadata": {
        "id": "2HxsmMBcNHgV",
        "colab_type": "raw"
      },
      "source": [
        "- 같다 : ==\n",
        "- 다르다 : !=\n",
        "- 크다(초과) : >\n",
        "- 작다(미만) : <\n",
        "- 크거나 같다(이상) : >=\n",
        "- 작거나 같다(이하) : <="
      ]
    },
    {
      "cell_type": "code",
      "metadata": {
        "id": "UtLHCKocNHgX",
        "colab_type": "code",
        "colab": {},
        "outputId": "86bfd115-2ce7-49f1-cbb4-2f1d42684b52"
      },
      "source": [
        "print(1+2 == 3)\n",
        "print(1+2 != 3)\n",
        "print(1<2)\n",
        "print(2>3)"
      ],
      "execution_count": 0,
      "outputs": [
        {
          "output_type": "stream",
          "text": [
            "True\n",
            "False\n",
            "True\n",
            "False\n"
          ],
          "name": "stdout"
        }
      ]
    },
    {
      "cell_type": "markdown",
      "metadata": {
        "id": "A_N2G13yNHgg",
        "colab_type": "text"
      },
      "source": [
        "### 3) 논리 연산자"
      ]
    },
    {
      "cell_type": "markdown",
      "metadata": {
        "id": "wL3NWiAlNHgh",
        "colab_type": "text"
      },
      "source": [
        "- and : 그리고 (좌변과 우변이 모두 참이어야 참)\n",
        "- or : 또는 (좌변과 우변 중 하나라도 참이면 참)\n",
        "- not : 부정"
      ]
    },
    {
      "cell_type": "code",
      "metadata": {
        "id": "2YPFzoEZNHgj",
        "colab_type": "code",
        "colab": {},
        "outputId": "223307f3-2c08-408d-dd61-443bfc1e4b50"
      },
      "source": [
        "print(True and True)\n",
        "print(True and False)\n",
        "print(False and False)"
      ],
      "execution_count": 0,
      "outputs": [
        {
          "output_type": "stream",
          "text": [
            "True\n",
            "False\n",
            "False\n"
          ],
          "name": "stdout"
        }
      ]
    },
    {
      "cell_type": "code",
      "metadata": {
        "id": "2eTF2-buNHgn",
        "colab_type": "code",
        "colab": {},
        "outputId": "d9d67dd5-18d1-475d-8cfc-c018b1a8d77f"
      },
      "source": [
        "print(True or True)\n",
        "print(True or False)\n",
        "print(False or False)"
      ],
      "execution_count": 0,
      "outputs": [
        {
          "output_type": "stream",
          "text": [
            "True\n",
            "True\n",
            "False\n"
          ],
          "name": "stdout"
        }
      ]
    },
    {
      "cell_type": "code",
      "metadata": {
        "id": "T01UC0JbNHgt",
        "colab_type": "code",
        "colab": {},
        "outputId": "e7911e41-8684-41f4-afac-83ba1b6f8630"
      },
      "source": [
        "print(not True)\n",
        "print(not False)"
      ],
      "execution_count": 0,
      "outputs": [
        {
          "output_type": "stream",
          "text": [
            "False\n",
            "True\n"
          ],
          "name": "stdout"
        }
      ]
    },
    {
      "cell_type": "markdown",
      "metadata": {
        "id": "tbWaO1KyNHg0",
        "colab_type": "text"
      },
      "source": [
        "### 4) 우선순위"
      ]
    },
    {
      "cell_type": "markdown",
      "metadata": {
        "id": "p4_wTjGTNHg0",
        "colab_type": "text"
      },
      "source": [
        "1. 산술 연산\n",
        "2. 비교 연산\n",
        "3. 논리 연산"
      ]
    },
    {
      "cell_type": "code",
      "metadata": {
        "scrolled": true,
        "id": "bPmK7blXNHg1",
        "colab_type": "code",
        "colab": {},
        "outputId": "b3b02272-f5c4-44ab-f86d-284873a47605"
      },
      "source": [
        "print(2 == 1+1 and 3>4)\n",
        "print(2 == 1+1 or 3>4)\n",
        "print(not 0>4)"
      ],
      "execution_count": 0,
      "outputs": [
        {
          "output_type": "stream",
          "text": [
            "False\n",
            "True\n",
            "True\n"
          ],
          "name": "stdout"
        }
      ]
    },
    {
      "cell_type": "markdown",
      "metadata": {
        "id": "tlJW7q06NHg6",
        "colab_type": "text"
      },
      "source": [
        "## 2. 조건문"
      ]
    },
    {
      "cell_type": "markdown",
      "metadata": {
        "id": "nnmae7_pNHg7",
        "colab_type": "text"
      },
      "source": [
        "### 1) if문"
      ]
    },
    {
      "cell_type": "markdown",
      "metadata": {
        "id": "xr7GdOgdNHg9",
        "colab_type": "raw"
      },
      "source": [
        "if 조건식:\n",
        "    코드1 # 조건식이 참일 때 실행 할 코드\n",
        "    코드2 # 조건식이 참일 때 실행 할 코드\n",
        "    ..."
      ]
    },
    {
      "cell_type": "code",
      "metadata": {
        "id": "M5UM112vNHg-",
        "colab_type": "code",
        "colab": {},
        "outputId": "5bbff068-0358-44be-d395-0a4f04798285"
      },
      "source": [
        "#짝수를 출력하는 프로그램\n",
        "num = int(input('정수를 입력하세요 : '))\n",
        "if num%2 == 0:\n",
        "    print(num, '은(는) 짝수 입니다.')"
      ],
      "execution_count": 0,
      "outputs": [
        {
          "output_type": "stream",
          "text": [
            "정수를 입력하세요 : 6\n",
            "6 은(는) 짝수 입니다.\n"
          ],
          "name": "stdout"
        }
      ]
    },
    {
      "cell_type": "markdown",
      "metadata": {
        "id": "gBpNVCWMNHhB",
        "colab_type": "text"
      },
      "source": [
        "### 2) if-else문"
      ]
    },
    {
      "cell_type": "markdown",
      "metadata": {
        "id": "XEqr40P9NHhC",
        "colab_type": "raw"
      },
      "source": [
        "if 조건식:\n",
        "    코드1 # 조건식이 참일 때 실행 할 코드\n",
        "    코드2 # 조건식이 참일 때 실행 할 코드\n",
        "    ...\n",
        "else:\n",
        "    코드3 # 조건식이 거짓일 때 실행 할 코드\n",
        "    코드4 # 조건식이 거짓일 때 실행 할 코드\n",
        "    ..."
      ]
    },
    {
      "cell_type": "code",
      "metadata": {
        "scrolled": true,
        "id": "GgG0B0BzNHhD",
        "colab_type": "code",
        "colab": {},
        "outputId": "82dd4b21-9f6a-4207-90cd-4402b438336e"
      },
      "source": [
        "#절댓값을 출력하는 프로그램\n",
        "num = int(input('정수를 입력하세요 : '))\n",
        "if num>=0:\n",
        "    print(num, '의 절댓값은', num, '입니다.')\n",
        "else:\n",
        "    print(num, '의 절댓값은', -num, '입니다.')"
      ],
      "execution_count": 0,
      "outputs": [
        {
          "output_type": "stream",
          "text": [
            "정수를 입력하세요 : -3\n",
            "-3 의 절댓값은 3 입니다.\n"
          ],
          "name": "stdout"
        }
      ]
    },
    {
      "cell_type": "markdown",
      "metadata": {
        "id": "KeoBkBK5NHhI",
        "colab_type": "text"
      },
      "source": [
        "## [연습문제]"
      ]
    },
    {
      "cell_type": "markdown",
      "metadata": {
        "id": "yIkdx25mNHhJ",
        "colab_type": "text"
      },
      "source": [
        "### 1. 정수를 입력 받아 2와 3의 공배수인지 확인하는 프로그램을 작성하시오."
      ]
    },
    {
      "cell_type": "code",
      "metadata": {
        "id": "7mMFINfdNHhK",
        "colab_type": "code",
        "colab": {},
        "outputId": "6184bd3e-224b-4c36-c8a8-4f6a47e14ce1"
      },
      "source": [
        "num = int(input('정수를 입력하시오 : '))\n",
        "\n",
        "if num%2 == 0 and num%3 == 0:\n",
        "    print(num, '은 2와 3의 공배수 입니다.')\n",
        "else:\n",
        "    print(num, '은 2와 3의 공배수가 아닙니다.')"
      ],
      "execution_count": 0,
      "outputs": [
        {
          "output_type": "stream",
          "text": [
            "정수를 입력하시오 : 12\n",
            "12 은 2와 3의 공배수 입니다.\n"
          ],
          "name": "stdout"
        }
      ]
    },
    {
      "cell_type": "markdown",
      "metadata": {
        "id": "fXJCcgyQNHhU",
        "colab_type": "text"
      },
      "source": [
        "## 3. 반복문"
      ]
    },
    {
      "cell_type": "markdown",
      "metadata": {
        "id": "i6BWGTwTNHhV",
        "colab_type": "text"
      },
      "source": [
        "### 1) for문"
      ]
    },
    {
      "cell_type": "markdown",
      "metadata": {
        "id": "cI74d9TLNHhW",
        "colab_type": "raw"
      },
      "source": [
        "for 변수 in 시퀀스:\n",
        "    코드1\n",
        "    코드2\n",
        "    ..."
      ]
    },
    {
      "cell_type": "code",
      "metadata": {
        "id": "eGtZg7fzNHhX",
        "colab_type": "code",
        "colab": {},
        "outputId": "1341f897-78cd-4924-e81e-5e8aef23377c"
      },
      "source": [
        "for i in 'python':\n",
        "    print(i, end=' ')"
      ],
      "execution_count": 0,
      "outputs": [
        {
          "output_type": "stream",
          "text": [
            "p y t h o n "
          ],
          "name": "stdout"
        }
      ]
    },
    {
      "cell_type": "markdown",
      "metadata": {
        "id": "njcfulTNNHha",
        "colab_type": "text"
      },
      "source": [
        "### 1) range 함수"
      ]
    },
    {
      "cell_type": "markdown",
      "metadata": {
        "id": "HGgDaM8KNHha",
        "colab_type": "text"
      },
      "source": [
        "- 일정한 간격으로 수를 나열할 때 사용한다.\n",
        "- range(stop) : 0부터 stop-1까지 1씩 증가하는 수열을 생성한다.\n",
        "- range(start, stop) : start부터 stop-1까지 1씩 증가하는 수열을 생성한다.\n",
        "- range(start, stop, step) : start부터 stop전까지 step씩 증가하는 수열을 생성한다."
      ]
    },
    {
      "cell_type": "code",
      "metadata": {
        "id": "dW2Gw0yBNHhb",
        "colab_type": "code",
        "colab": {},
        "outputId": "d8a4ebda-5fd6-4678-fc83-1721d131df28"
      },
      "source": [
        "range(10)"
      ],
      "execution_count": 0,
      "outputs": [
        {
          "output_type": "execute_result",
          "data": {
            "text/plain": [
              "range(0, 10)"
            ]
          },
          "metadata": {
            "tags": []
          },
          "execution_count": 10
        }
      ]
    },
    {
      "cell_type": "code",
      "metadata": {
        "id": "AIVuz903NHhe",
        "colab_type": "code",
        "colab": {},
        "outputId": "68ff88aa-b2d2-41d3-f9b1-a6c74ee03b0b"
      },
      "source": [
        "for i in range(10):\n",
        "    print(i, end=' ')"
      ],
      "execution_count": 0,
      "outputs": [
        {
          "output_type": "stream",
          "text": [
            "0 1 2 3 4 5 6 7 8 9 "
          ],
          "name": "stdout"
        }
      ]
    },
    {
      "cell_type": "code",
      "metadata": {
        "scrolled": true,
        "id": "LS-veV81NHhi",
        "colab_type": "code",
        "colab": {},
        "outputId": "3b84c900-9cdd-47ab-9759-5e061057ef15"
      },
      "source": [
        "range(5, 10)"
      ],
      "execution_count": 0,
      "outputs": [
        {
          "output_type": "execute_result",
          "data": {
            "text/plain": [
              "range(5, 10)"
            ]
          },
          "metadata": {
            "tags": []
          },
          "execution_count": 12
        }
      ]
    },
    {
      "cell_type": "code",
      "metadata": {
        "id": "aFHYRsapNHhs",
        "colab_type": "code",
        "colab": {},
        "outputId": "2ffc738c-e771-4b39-f0a6-824a6356df4d"
      },
      "source": [
        "for i in range(5, 10):\n",
        "    print(i, end=' ')"
      ],
      "execution_count": 0,
      "outputs": [
        {
          "output_type": "stream",
          "text": [
            "5 6 7 8 9 "
          ],
          "name": "stdout"
        }
      ]
    },
    {
      "cell_type": "code",
      "metadata": {
        "id": "-NTzjkZENHhx",
        "colab_type": "code",
        "colab": {},
        "outputId": "deab1dd9-19ba-46a7-add8-fe8676085778"
      },
      "source": [
        "range(2, 11, 2)"
      ],
      "execution_count": 0,
      "outputs": [
        {
          "output_type": "execute_result",
          "data": {
            "text/plain": [
              "range(2, 11, 2)"
            ]
          },
          "metadata": {
            "tags": []
          },
          "execution_count": 14
        }
      ]
    },
    {
      "cell_type": "code",
      "metadata": {
        "id": "RFXEfh3hNHh1",
        "colab_type": "code",
        "colab": {},
        "outputId": "2e6cd68c-c6b5-4935-bb7c-34d1f1e54dff"
      },
      "source": [
        "for i in range(2, 11, 2):\n",
        "    print(i, end=' ')"
      ],
      "execution_count": 0,
      "outputs": [
        {
          "output_type": "stream",
          "text": [
            "2 4 6 8 10 "
          ],
          "name": "stdout"
        }
      ]
    },
    {
      "cell_type": "markdown",
      "metadata": {
        "id": "VRRnCqs4NHh5",
        "colab_type": "text"
      },
      "source": [
        "### 3) break문"
      ]
    },
    {
      "cell_type": "code",
      "metadata": {
        "id": "JonCyQuENHh6",
        "colab_type": "code",
        "colab": {},
        "outputId": "b5696af8-2a97-4bd2-e64d-a0f7a6c63d4d"
      },
      "source": [
        "for i in range(1, 10):\n",
        "    print(i)\n",
        "    if i%3 == 0 : break"
      ],
      "execution_count": 0,
      "outputs": [
        {
          "output_type": "stream",
          "text": [
            "1\n",
            "2\n",
            "3\n"
          ],
          "name": "stdout"
        }
      ]
    },
    {
      "cell_type": "markdown",
      "metadata": {
        "id": "ocoMneBONHh-",
        "colab_type": "text"
      },
      "source": [
        "## [연습문제]"
      ]
    },
    {
      "cell_type": "markdown",
      "metadata": {
        "id": "dsgwtskyNHh-",
        "colab_type": "text"
      },
      "source": [
        "### 2. 1~10까지 더한 값(var)을 출력하는 프로그램을 작성하시오."
      ]
    },
    {
      "cell_type": "code",
      "metadata": {
        "id": "VtVnUxSPNHh_",
        "colab_type": "code",
        "colab": {},
        "outputId": "4dddfdc7-243f-42db-ba13-776bad4fe9b6"
      },
      "source": [
        "var = 0\n",
        "for i in range(1, 11):\n",
        "    var = var + i\n",
        "print(var)"
      ],
      "execution_count": 0,
      "outputs": [
        {
          "output_type": "stream",
          "text": [
            "55\n"
          ],
          "name": "stdout"
        }
      ]
    },
    {
      "cell_type": "code",
      "metadata": {
        "id": "6L0tCrJ1NHiF",
        "colab_type": "code",
        "colab": {}
      },
      "source": [
        ""
      ],
      "execution_count": 0,
      "outputs": []
    }
  ]
}